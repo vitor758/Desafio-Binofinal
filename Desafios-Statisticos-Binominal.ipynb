{
  "nbformat": 4,
  "nbformat_minor": 0,
  "metadata": {
    "colab": {
      "name": "Desafios-Statisticos-Binominal.ipynb",
      "provenance": [],
      "collapsed_sections": [
        "UHMQZbZb0xS-",
        "fTIlwAJCdT68",
        "x2J2CgSpes1s",
        "4V5o8fHSgot1",
        "eN7PbZGghfpc"
      ]
    },
    "kernelspec": {
      "name": "python3",
      "display_name": "Python 3"
    },
    "language_info": {
      "name": "python"
    }
  },
  "cells": [
    {
      "cell_type": "markdown",
      "source": [
        "#A baixo temos 5 questões, será necessário utilizar:\n",
        "Os conceitos básicos da distribuição de probabilidades binomial.\n",
        "Identificar e solucionar problemas que envolvam um experimento binomial.\n",
        "Obter a probabilidade de eventos que envolvam apenas duas possibilidades de resultado"
      ],
      "metadata": {
        "id": "zWkrr4h3jLw0"
      }
    },
    {
      "cell_type": "markdown",
      "source": [
        "### 1 - Concurso  \n",
        "####Em um concurso para preencher uma vaga de cientista de dados temos um total de 10 questões de múltipla escolha com 3 alternativas possíveis em cada questão. Cada questão tem o mesmo valor. Suponha que um candidato resolva se aventurar sem ter estudado absolutamente nada. Ele resolve fazer a prova de olhos vendados e chutar todas as resposta. Assumindo que a prova vale 10 pontos e a nota de corte seja 5, obtenha a probabilidade deste candidato acertar 5 questões.\n",
        "\n"
      ],
      "metadata": {
        "id": "UHMQZbZb0xS-"
      }
    },
    {
      "cell_type": "code",
      "source": [
        "# Importanto biblioteca necessária\n",
        "from scipy.stats import binom"
      ],
      "metadata": {
        "id": "BTLZp8r01qNe"
      },
      "execution_count": null,
      "outputs": []
    },
    {
      "cell_type": "code",
      "execution_count": null,
      "metadata": {
        "id": "DnUu0K5z0whr"
      },
      "outputs": [],
      "source": [
        "# Quantidade de eventos \n",
        "n = 10\n",
        "\n",
        "# Quantidade de vezes que se espera obter sucesso\n",
        "k = 5\n",
        "\n",
        "# Probabilidade de acerto\n",
        "p = 1 / 3\n",
        "\n",
        "# Probabilidae de fracasso\n",
        "q = 1 - p"
      ]
    },
    {
      "cell_type": "code",
      "source": [
        "probabilidade = binom.pmf(k, n , p)\n",
        "print('Probabilidade é: %0.8f' % probabilidade)"
      ],
      "metadata": {
        "colab": {
          "base_uri": "https://localhost:8080/"
        },
        "id": "97FmAM9J2HT9",
        "outputId": "744512e9-1326-4e03-ade9-2242687191a5"
      },
      "execution_count": null,
      "outputs": [
        {
          "output_type": "stream",
          "name": "stdout",
          "text": [
            "Probabilidade é: 0.13656455\n"
          ]
        }
      ]
    },
    {
      "cell_type": "markdown",
      "source": [
        "### 2 -  Mega Sena\n",
        "####Em um volante de loteria da Mega Sena temos um total de 60 números para escolher onde a aposta mínima é de seis números. Você que é curiosa(o) resolve calcular a probabilidade de se acertar na Mega Sena com apenas um jogo. Para isso precisamos saber quantas combinações de seis números podem ser formadas com os 60 números disponíveis."
      ],
      "metadata": {
        "id": "fTIlwAJCdT68"
      }
    },
    {
      "cell_type": "code",
      "source": [
        "# Importanto bibliotecas necessárias\n",
        "from scipy.special import comb"
      ],
      "metadata": {
        "id": "qSuGM3oDdY-b"
      },
      "execution_count": null,
      "outputs": []
    },
    {
      "cell_type": "code",
      "source": [
        "# Descubrindo a quantidade de combinações possíveis\n",
        "combinacoes = comb(60, 6)\n",
        "\n",
        "# Probabilidade de acerto\n",
        "probabilidade = 1 / combinacoes\n",
        "print('A probabilidade de ganhar na mega sena com apenas um jogo é de: %0.15f'  % probabilidade)\n"
      ],
      "metadata": {
        "colab": {
          "base_uri": "https://localhost:8080/"
        },
        "id": "N_IrRSdLdq5s",
        "outputId": "00d5b763-62b6-4319-cc10-68c70adf8341"
      },
      "execution_count": null,
      "outputs": [
        {
          "output_type": "stream",
          "name": "stdout",
          "text": [
            "A probabilidade de ganhar na mega sena com apenas um jogo é de: 0.000000019974489\n"
          ]
        }
      ]
    },
    {
      "cell_type": "markdown",
      "source": [
        "### 3 - Jogando dados\n",
        "####Um dado, perfeitamente equilibrado, é lançado para o alto dez vezes. Utilizando a distribuição binomial, obtenha a probabilidade de o dado cair com o número cinco voltado para cima pelo menos três vezes."
      ],
      "metadata": {
        "id": "x2J2CgSpes1s"
      }
    },
    {
      "cell_type": "code",
      "source": [
        "from scipy.stats import binom\n",
        "\n",
        "p = 1 / 6   # Probabilidade de sair o número CINCO\n",
        "n = 10      # Total de lançamentos\n",
        "\n",
        "print(\"{0:.2%}\".format(binom.sf(2, n, p)))"
      ],
      "metadata": {
        "colab": {
          "base_uri": "https://localhost:8080/"
        },
        "id": "LL9buFTvfO_j",
        "outputId": "1f5c557f-bc9f-4741-db82-cd237fe8f09c"
      },
      "execution_count": null,
      "outputs": [
        {
          "output_type": "stream",
          "name": "stdout",
          "text": [
            "22.48%\n"
          ]
        }
      ]
    },
    {
      "cell_type": "markdown",
      "source": [
        "### 4 - Lançando moedas\n",
        "####Uma moeda, perfeitamente equilibrada, é lançada para o alto quatro vezes. Utilizando a distribuição binomial, obtenha a probabilidade de a moeda cair com a face coroa voltada para cima duas vezes."
      ],
      "metadata": {
        "id": "4V5o8fHSgot1"
      }
    },
    {
      "cell_type": "code",
      "source": [
        "n = 4\n",
        "n"
      ],
      "metadata": {
        "colab": {
          "base_uri": "https://localhost:8080/"
        },
        "id": "ZKSV5GyTgqf8",
        "outputId": "633f4997-a541-4eff-c2bd-a6233290ed95"
      },
      "execution_count": null,
      "outputs": [
        {
          "output_type": "execute_result",
          "data": {
            "text/plain": [
              "4"
            ]
          },
          "metadata": {},
          "execution_count": 25
        }
      ]
    },
    {
      "cell_type": "code",
      "source": [
        "k = 2\n",
        "k"
      ],
      "metadata": {
        "colab": {
          "base_uri": "https://localhost:8080/"
        },
        "id": "z8WHSQ2UgzG7",
        "outputId": "ff7c5a3e-32f9-4c86-d723-b39e5bc1b1c1"
      },
      "execution_count": null,
      "outputs": [
        {
          "output_type": "execute_result",
          "data": {
            "text/plain": [
              "2"
            ]
          },
          "metadata": {},
          "execution_count": 26
        }
      ]
    },
    {
      "cell_type": "code",
      "source": [
        " p = 1 / 2"
      ],
      "metadata": {
        "id": "pA0xnqDJg3K7"
      },
      "execution_count": null,
      "outputs": []
    },
    {
      "cell_type": "code",
      "source": [
        "probabilidade = binom.pmf(k, n , p)\n",
        "print('Probabilidade é: %0.8f' % probabilidade)"
      ],
      "metadata": {
        "colab": {
          "base_uri": "https://localhost:8080/"
        },
        "id": "7DpcJwMng93r",
        "outputId": "ec23edbe-4bee-44c7-b819-02843e90944e"
      },
      "execution_count": null,
      "outputs": [
        {
          "output_type": "stream",
          "name": "stdout",
          "text": [
            "Probabilidade é: 0.37500000\n"
          ]
        }
      ]
    },
    {
      "cell_type": "markdown",
      "source": [
        "### 5 - Chance de ter olhos azuis\n",
        "####Suponha que a probabilidade de um casal ter filhos com olhos azuis seja de 22%. Em 50 famílias, com 3 crianças cada uma, quantas podemos esperar que tenham dois filhos com olhos azuis?"
      ],
      "metadata": {
        "id": "eN7PbZGghfpc"
      }
    },
    {
      "cell_type": "code",
      "source": [
        "# Probabilidade de acerto\n",
        "p = 0.22 \n",
        "p\n",
        "# Numero de ocorrências\n",
        "n = 3\n",
        "n\n",
        "# Quantidade de acertos esperados\n",
        "k = 2\n",
        "k\n",
        "# Quantidade  de familias\n",
        "N = 50\n",
        "probabilidade =  binom.pmf(k, n, p)"
      ],
      "metadata": {
        "id": "aHCBZvm7hiNb"
      },
      "execution_count": null,
      "outputs": []
    },
    {
      "cell_type": "code",
      "source": [
        "# Resposta final\n",
        "probabilidade * N"
      ],
      "metadata": {
        "colab": {
          "base_uri": "https://localhost:8080/"
        },
        "id": "vlg2nmlliSRd",
        "outputId": "32881cc2-3c91-451d-e6c5-039636d2ba0b"
      },
      "execution_count": null,
      "outputs": [
        {
          "output_type": "execute_result",
          "data": {
            "text/plain": [
              "5.662799999999999"
            ]
          },
          "metadata": {},
          "execution_count": 49
        }
      ]
    }
  ]
}